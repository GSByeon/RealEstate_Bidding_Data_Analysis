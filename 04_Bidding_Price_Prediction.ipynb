{
 "cells": [
  {
   "cell_type": "code",
   "execution_count": 99,
   "metadata": {
    "collapsed": true
   },
   "outputs": [],
   "source": [
    "import pandas as pd\n",
    "import numpy as np\n",
    "from sklearn.linear_model import LinearRegression\n",
    "import statsmodels.api as sm\n",
    "from sklearn.linear_model import Lasso\n",
    "from sklearn.cross_validation import cross_val_score\n",
    "from sklearn.metrics import mean_absolute_error\n",
    "mpl.rc('font',family='malgun gothic')"
   ]
  },
  {
   "cell_type": "code",
   "execution_count": 3,
   "metadata": {
    "collapsed": true
   },
   "outputs": [],
   "source": [
    "df = pd.read_excel('06.dataset.xlsx')"
   ]
  },
  {
   "cell_type": "markdown",
   "metadata": {},
   "source": [
    "# 낙찰이 불확실한 경우 낙찰가 예측"
   ]
  },
  {
   "cell_type": "markdown",
   "metadata": {},
   "source": [
    "### 1) 전지역 통합 분석"
   ]
  },
  {
   "cell_type": "code",
   "execution_count": 74,
   "metadata": {
    "collapsed": true
   },
   "outputs": [],
   "source": [
    "data = pd.concat([\n",
    "        df.ix[:, 'lot_of_land':'현상변경허가 대상구역'],\n",
    "        df.ix[:, '도시지역_주거지역':'자연환경보전지역'],\n",
    "        df.ix[:, 'log_est_jiga'],\n",
    "        df.ix[:, 'log_area'],\n",
    "    ], axis = 1)\n",
    "target = df.ix[:, 'log_bid_jiga']"
   ]
  },
  {
   "cell_type": "code",
   "execution_count": 105,
   "metadata": {
    "collapsed": false
   },
   "outputs": [
    {
     "name": "stdout",
     "output_type": "stream",
     "text": [
      "                            OLS Regression Results                            \n",
      "==============================================================================\n",
      "Dep. Variable:           log_bid_jiga   R-squared:                       0.913\n",
      "Model:                            OLS   Adj. R-squared:                  0.912\n",
      "Method:                 Least Squares   F-statistic:                     870.2\n",
      "Date:                Mon, 11 Apr 2016   Prob (F-statistic):               0.00\n",
      "Time:                        04:17:30   Log-Likelihood:                -6496.1\n",
      "No. Observations:                9961   AIC:                         1.323e+04\n",
      "Df Residuals:                    9841   BIC:                         1.410e+04\n",
      "Df Model:                         119                                         \n",
      "Covariance Type:            nonrobust                                         \n",
      "===================================================================================\n",
      "                      coef    std err          t      P>|t|      [95.0% Conf. Int.]\n",
      "-----------------------------------------------------------------------------------\n",
      "const               0.6964      0.087      8.025      0.000         0.526     0.867\n",
      "lot_of_land        -0.0573      0.012     -4.799      0.000        -0.081    -0.034\n",
      "공유자매수신고            -0.0150      0.072     -0.208      0.835        -0.156     0.126\n",
      "법정지상권               0.0505      0.012      4.046      0.000         0.026     0.075\n",
      "분묘기지권              -0.0792      0.030     -2.627      0.009        -0.138    -0.020\n",
      "선순위가등기             -0.2131      0.121     -1.755      0.079        -0.451     0.025\n",
      "선순위가처분             -0.2223      0.157     -1.416      0.157        -0.530     0.086\n",
      "선순위전세권             -0.6606      0.331     -1.993      0.046        -1.310    -0.011\n",
      "선순위지상권             -0.0526      0.167     -0.315      0.753        -0.380     0.275\n",
      "유치권                -0.0140      0.053     -0.265      0.791        -0.117     0.089\n",
      "재경매                -0.1619      0.037     -4.356      0.000        -0.235    -0.089\n",
      "지분경매               -0.2489      0.235     -1.059      0.289        -0.710     0.212\n",
      "lndlevel_고지        -0.7089      0.168     -4.227      0.000        -1.038    -0.380\n",
      "lndlevel_급경사       -0.7119      0.163     -4.362      0.000        -1.032    -0.392\n",
      "lndlevel_완경사       -0.5902      0.158     -3.746      0.000        -0.899    -0.281\n",
      "lndlevel_저지        -0.5596      0.178     -3.152      0.002        -0.908    -0.212\n",
      "lndlevel_평지        -0.5488      0.157     -3.488      0.000        -0.857    -0.240\n",
      "rdtuch_광대세각         0.4876      0.161      3.023      0.003         0.171     0.804\n",
      "rdtuch_광대소각         0.5703      0.146      3.903      0.000         0.284     0.857\n",
      "rdtuch_광대한면         0.6333      0.139      4.550      0.000         0.360     0.906\n",
      "rdtuch_맹지           0.3654      0.134      2.717      0.007         0.102     0.629\n",
      "rdtuch_세각(가)        0.5797      0.135      4.309      0.000         0.316     0.843\n",
      "rdtuch_세각(불)        0.5001      0.139      3.606      0.000         0.228     0.772\n",
      "rdtuch_세로(가)        0.5234      0.133      3.947      0.000         0.264     0.783\n",
      "rdtuch_세로(불)        0.4823      0.133      3.638      0.000         0.222     0.742\n",
      "rdtuch_소로각지         0.6271      0.135      4.653      0.000         0.363     0.891\n",
      "rdtuch_소로한면         0.5906      0.133      4.442      0.000         0.330     0.851\n",
      "rdtuch_중로각지         0.7108      0.137      5.177      0.000         0.442     0.980\n",
      "rdtuch_중로한면         0.6277      0.135      4.657      0.000         0.364     0.892\n",
      "lndcmps_남동향         0.0687      0.021      3.236      0.001         0.027     0.110\n",
      "lndcmps_남서향         0.0469      0.021      2.241      0.025         0.006     0.088\n",
      "lndcmps_남향          0.0506      0.018      2.737      0.006         0.014     0.087\n",
      "lndcmps_동향          0.0583      0.019      2.992      0.003         0.020     0.096\n",
      "lndcmps_북동향         0.0804      0.026      3.061      0.002         0.029     0.132\n",
      "lndcmps_북서향         0.0872      0.029      2.995      0.003         0.030     0.144\n",
      "lndcmps_북향          0.0761      0.022      3.482      0.000         0.033     0.119\n",
      "lndcmps_서향          0.0522      0.020      2.551      0.011         0.012     0.092\n",
      "lndfrm_가장형          0.1599      0.094      1.697      0.090        -0.025     0.345\n",
      "lndfrm_부정형          0.0927      0.092      1.006      0.315        -0.088     0.273\n",
      "lndfrm_사다리          0.1436      0.092      1.553      0.120        -0.038     0.325\n",
      "lndfrm_삼각형          0.1080      0.097      1.111      0.267        -0.083     0.298\n",
      "lndfrm_세장형          0.1269      0.094      1.355      0.175        -0.057     0.310\n",
      "lndfrm_역삼각          0.2203      0.181      1.214      0.225        -0.135     0.576\n",
      "lndfrm_자루형          0.1388      0.098      1.423      0.155        -0.052     0.330\n",
      "lndfrm_정방형          0.1976      0.095      2.073      0.038         0.011     0.384\n",
      "가로구역별 최고높이          0.1518      0.040      3.822      0.000         0.074     0.230\n",
      "가축사육제한구역           -0.0424      0.012     -3.525      0.000        -0.066    -0.019\n",
      "개발제한구역              0.1131      0.028      4.006      0.000         0.058     0.168\n",
      "개발촉진관련지역           -0.0161      0.027     -0.592      0.554        -0.069     0.037\n",
      "경관보전관련지역           -0.0212      0.024     -0.872      0.383        -0.069     0.026\n",
      "계획관리지역             -0.0453      0.017     -2.671      0.008        -0.079    -0.012\n",
      "공공시설유무              0.0162      0.027      0.595      0.552        -0.037     0.070\n",
      "공업관련지역             -0.0430      0.027     -1.567      0.117        -0.097     0.011\n",
      "공원유무                0.0385      0.016      2.413      0.016         0.007     0.070\n",
      "과밀억제지역             -0.0814      0.031     -2.668      0.008        -0.141    -0.022\n",
      "광로                  0.0938      0.039      2.389      0.017         0.017     0.171\n",
      "노외주차장              -0.0233      0.045     -0.521      0.603        -0.111     0.064\n",
      "녹지관련지역              0.0029      0.017      0.165      0.869        -0.031     0.037\n",
      "농림지역.1              0.0338      0.017      2.000      0.046         0.001     0.067\n",
      "농업관련지역             -0.0141      0.019     -0.729      0.466        -0.052     0.024\n",
      "대공방어협조구역            0.0412      0.042      0.975      0.329        -0.042     0.124\n",
      "대로                  0.0349      0.017      2.051      0.040         0.002     0.068\n",
      "도로유무               -0.0635      0.015     -4.296      0.000        -0.092    -0.035\n",
      "도시개발관련지역            0.0751      0.035      2.170      0.030         0.007     0.143\n",
      "도시지역               -0.0203      0.014     -1.421      0.155        -0.048     0.008\n",
      "문화재관련법규             0.0051      0.019      0.272      0.786        -0.032     0.042\n",
      "방화지구               -0.0109      0.028     -0.385      0.700        -0.067     0.045\n",
      "배수구역               -0.1365      0.049     -2.783      0.005        -0.233    -0.040\n",
      "배출시설설치제한지역          0.0919      0.028      3.311      0.001         0.038     0.146\n",
      "법정동                 0.0161      0.017      0.930      0.353        -0.018     0.050\n",
      "보전관리지역              0.0177      0.015      1.203      0.229        -0.011     0.046\n",
      "비행안전구역             -0.0680      0.038     -1.808      0.071        -0.142     0.006\n",
      "산지관련법규             -0.0131      0.016     -0.823      0.410        -0.044     0.018\n",
      "상수원보호기타             0.0526      0.032      1.652      0.098        -0.010     0.115\n",
      "상업관련지역              0.0460      0.019      2.379      0.017         0.008     0.084\n",
      "생산관리지역              0.0059      0.016      0.383      0.702        -0.025     0.036\n",
      "성장관리지역             -0.0699      0.030     -2.365      0.018        -0.128    -0.012\n",
      "소로                 -0.0338      0.013     -2.542      0.011        -0.060    -0.008\n",
      "수질보존관련지역            0.0048      0.034      0.139      0.889        -0.062     0.072\n",
      "시장                 -0.0581      0.044     -1.309      0.191        -0.145     0.029\n",
      "영농여건불리농지           -0.0180      0.046     -0.387      0.699        -0.109     0.073\n",
      "일반미관지구              0.0280      0.027      1.021      0.307        -0.026     0.082\n",
      "자연녹지지역             -0.0367      0.015     -2.481      0.013        -0.066    -0.008\n",
      "자연보전권역             -0.1602      0.040     -3.975      0.000        -0.239    -0.081\n",
      "자연취락지구              0.0122      0.015      0.838      0.402        -0.016     0.041\n",
      "자연환경보전지역.1          0.1491      0.038      3.972      0.000         0.076     0.223\n",
      "장애물제한표면구역          -0.0415      0.048     -0.868      0.386        -0.135     0.052\n",
      "접도구역                0.0815      0.024      3.375      0.001         0.034     0.129\n",
      "정비구역                0.0444      0.028      1.599      0.110        -0.010     0.099\n",
      "정화구역                0.0092      0.014      0.667      0.505        -0.018     0.036\n",
      "제한보호구역             -0.1561      0.043     -3.621      0.000        -0.241    -0.072\n",
      "주거개발관련지역           -0.0079      0.030     -0.261      0.794        -0.067     0.052\n",
      "주거관련지역              0.0386      0.017      2.221      0.026         0.005     0.073\n",
      "주거용지                0.0438      0.042      1.032      0.302        -0.039     0.127\n",
      "주차장                -0.0198      0.024     -0.820      0.412        -0.067     0.028\n",
      "준보전산지              -0.0273      0.012     -2.368      0.018        -0.050    -0.005\n",
      "준주거지역               0.0582      0.022      2.680      0.007         0.016     0.101\n",
      "중로                 -0.0058      0.013     -0.444      0.657        -0.031     0.020\n",
      "중심지미관지구            -0.0201      0.035     -0.575      0.566        -0.089     0.048\n",
      "지구단위계획구역            0.0170      0.016      1.074      0.283        -0.014     0.048\n",
      "지역특화발전특구            0.0438      0.038      1.166      0.244        -0.030     0.117\n",
      "철도                 -0.0271      0.036     -0.759      0.448        -0.097     0.043\n",
      "최고고도지구              0.0447      0.028      1.586      0.113        -0.011     0.100\n",
      "토지거래계약에관한허가구역       0.1669      0.047      3.523      0.000         0.074     0.260\n",
      "하수처리구역             -0.0667      0.042     -1.595      0.111        -0.149     0.015\n",
      "하천유무                0.0101      0.015      0.689      0.491        -0.019     0.039\n",
      "한강폐기물매립시설설치제한지역     0.0161      0.032      0.504      0.614        -0.046     0.079\n",
      "행정구역 리              0.1657      0.037      4.437      0.000         0.093     0.239\n",
      "현상변경허가 대상구역         0.0665      0.024      2.818      0.005         0.020     0.113\n",
      "도시지역_주거지역        6.062e-06   1.36e-05      0.446      0.655     -2.06e-05  3.27e-05\n",
      "도시지역_상업지역           0.0003   5.75e-05      5.643      0.000         0.000     0.000\n",
      "도시지역_공업지역       -2.529e-05      0.000     -0.212      0.832        -0.000     0.000\n",
      "도시지역_녹지지역           0.0003   4.57e-05      5.992      0.000         0.000     0.000\n",
      "도시지역_개발제한구역         0.0005      0.000      2.206      0.027      5.45e-05     0.001\n",
      "도시지역_용도미지정         -0.0003   7.07e-05     -4.542      0.000        -0.000    -0.000\n",
      "관리지역소계           -7.33e-06   2.87e-05     -0.255      0.799     -6.37e-05   4.9e-05\n",
      "농림지역               -0.0004   8.91e-05     -4.021      0.000        -0.001    -0.000\n",
      "자연환경보전지역            0.0010      0.000      3.594      0.000         0.000     0.002\n",
      "log_est_jiga        0.8899      0.006    160.490      0.000         0.879     0.901\n",
      "log_area            0.0363      0.004      8.223      0.000         0.028     0.045\n",
      "==============================================================================\n",
      "Omnibus:                     2081.811   Durbin-Watson:                   1.369\n",
      "Prob(Omnibus):                  0.000   Jarque-Bera (JB):            43463.675\n",
      "Skew:                           0.462   Prob(JB):                         0.00\n",
      "Kurtosis:                      13.191   Cond. No.                     8.22e+04\n",
      "==============================================================================\n",
      "\n",
      "Warnings:\n",
      "[1] Standard Errors assume that the covariance matrix of the errors is correctly specified.\n",
      "[2] The condition number is large, 8.22e+04. This might indicate that there are\n",
      "strong multicollinearity or other numerical problems.\n",
      "0.339994212825\n",
      "26119905.5989\n"
     ]
    }
   ],
   "source": [
    "data = sm.add_constant(data)\n",
    "model = sm.OLS(target, data)\n",
    "result = model.fit()\n",
    "print(result.summary())\n",
    "print(mean_absolute_error(result.predict(), target))\n",
    "print(mean_absolute_error(np.exp(result.predict()) * df['area(m2)'], np.exp(target) * df['area(m2)']))"
   ]
  },
  {
   "cell_type": "code",
   "execution_count": 115,
   "metadata": {
    "collapsed": false
   },
   "outputs": [
    {
     "name": "stdout",
     "output_type": "stream",
     "text": [
      "                            OLS Regression Results                            \n",
      "==============================================================================\n",
      "Dep. Variable:           log_bid_jiga   R-squared:                       0.912\n",
      "Model:                            OLS   Adj. R-squared:                  0.911\n",
      "Method:                 Least Squares   F-statistic:                     2047.\n",
      "Date:                Mon, 11 Apr 2016   Prob (F-statistic):               0.00\n",
      "Time:                        04:24:20   Log-Likelihood:                -6581.5\n",
      "No. Observations:                9961   AIC:                         1.326e+04\n",
      "Df Residuals:                    9910   BIC:                         1.363e+04\n",
      "Df Model:                          50                                         \n",
      "Covariance Type:            nonrobust                                         \n",
      "=================================================================================\n",
      "                    coef    std err          t      P>|t|      [95.0% Conf. Int.]\n",
      "---------------------------------------------------------------------------------\n",
      "const             0.6724      0.078      8.638      0.000         0.520     0.825\n",
      "lot_of_land      -0.0576      0.012     -4.845      0.000        -0.081    -0.034\n",
      "법정지상권             0.0517      0.012      4.151      0.000         0.027     0.076\n",
      "분묘기지권            -0.0823      0.030     -2.721      0.007        -0.142    -0.023\n",
      "재경매              -0.1626      0.037     -4.371      0.000        -0.236    -0.090\n",
      "lndlevel_고지      -0.6153      0.148     -4.169      0.000        -0.905    -0.326\n",
      "lndlevel_급경사     -0.6140      0.143     -4.296      0.000        -0.894    -0.334\n",
      "lndlevel_완경사     -0.5018      0.137     -3.660      0.000        -0.771    -0.233\n",
      "lndlevel_저지      -0.4723      0.160     -2.960      0.003        -0.785    -0.160\n",
      "lndlevel_평지      -0.4543      0.137     -3.323      0.001        -0.722    -0.186\n",
      "rdtuch_광대세각       0.5083      0.160      3.177      0.001         0.195     0.822\n",
      "rdtuch_광대소각       0.6417      0.145      4.428      0.000         0.358     0.926\n",
      "rdtuch_광대한면       0.7077      0.138      5.137      0.000         0.438     0.978\n",
      "rdtuch_맹지         0.4088      0.133      3.064      0.002         0.147     0.670\n",
      "rdtuch_세각(가)      0.6364      0.133      4.777      0.000         0.375     0.898\n",
      "rdtuch_세각(불)      0.5574      0.137      4.056      0.000         0.288     0.827\n",
      "rdtuch_세로(가)      0.5742      0.131      4.374      0.000         0.317     0.831\n",
      "rdtuch_세로(불)      0.5355      0.131      4.080      0.000         0.278     0.793\n",
      "rdtuch_소로각지       0.6882      0.134      5.150      0.000         0.426     0.950\n",
      "rdtuch_소로한면       0.6452      0.132      4.897      0.000         0.387     0.903\n",
      "rdtuch_중로각지       0.7659      0.136      5.626      0.000         0.499     1.033\n",
      "rdtuch_중로한면       0.6768      0.134      5.064      0.000         0.415     0.939\n",
      "lndcmps_남동향       0.0322      0.017      1.898      0.058        -0.001     0.065\n",
      "lndcmps_남향        0.0161      0.013      1.205      0.228        -0.010     0.042\n",
      "lndcmps_동향        0.0251      0.015      1.702      0.089        -0.004     0.054\n",
      "lndcmps_북동향       0.0544      0.023      2.353      0.019         0.009     0.100\n",
      "lndcmps_북서향       0.0591      0.026      2.248      0.025         0.008     0.111\n",
      "lndcmps_북향        0.0437      0.018      2.453      0.014         0.009     0.079\n",
      "가로구역별 최고높이        0.1681      0.037      4.517      0.000         0.095     0.241\n",
      "가축사육제한구역         -0.0572      0.011     -5.109      0.000        -0.079    -0.035\n",
      "개발제한구역            0.1020      0.025      4.136      0.000         0.054     0.150\n",
      "계획관리지역           -0.0333      0.012     -2.682      0.007        -0.058    -0.009\n",
      "과밀억제지역           -0.0431      0.028     -1.515      0.130        -0.099     0.013\n",
      "도로유무             -0.0560      0.014     -3.899      0.000        -0.084    -0.028\n",
      "배수구역             -0.1846      0.040     -4.581      0.000        -0.264    -0.106\n",
      "배출시설설치제한지역        0.0972      0.027      3.635      0.000         0.045     0.150\n",
      "자연보전권역           -0.1739      0.036     -4.830      0.000        -0.244    -0.103\n",
      "자연환경보전지역.1        0.1543      0.035      4.388      0.000         0.085     0.223\n",
      "접도구역              0.0649      0.023      2.784      0.005         0.019     0.111\n",
      "제한보호구역           -0.1589      0.042     -3.773      0.000        -0.241    -0.076\n",
      "준주거지역             0.0672      0.021      3.166      0.002         0.026     0.109\n",
      "토지거래계약에관한허가구역     0.1723      0.047      3.689      0.000         0.081     0.264\n",
      "행정구역 리            0.1690      0.037      4.595      0.000         0.097     0.241\n",
      "현상변경허가 대상구역       0.0693      0.023      2.972      0.003         0.024     0.115\n",
      "도시지역_상업지역         0.0004   5.32e-05      6.711      0.000         0.000     0.000\n",
      "도시지역_녹지지역         0.0003   3.69e-05      6.958      0.000         0.000     0.000\n",
      "도시지역_용도미지정       -0.0004   6.61e-05     -5.585      0.000        -0.000    -0.000\n",
      "농림지역             -0.0004   7.53e-05     -4.958      0.000        -0.001    -0.000\n",
      "자연환경보전지역          0.0011      0.000      3.984      0.000         0.001     0.002\n",
      "log_est_jiga      0.8961      0.005    197.339      0.000         0.887     0.905\n",
      "log_area          0.0321      0.004      7.550      0.000         0.024     0.040\n",
      "==============================================================================\n",
      "Omnibus:                     2003.109   Durbin-Watson:                   1.346\n",
      "Prob(Omnibus):                  0.000   Jarque-Bera (JB):            39524.214\n",
      "Skew:                           0.437   Prob(JB):                         0.00\n",
      "Kurtosis:                      12.719   Cond. No.                     2.09e+04\n",
      "==============================================================================\n",
      "\n",
      "Warnings:\n",
      "[1] Standard Errors assume that the covariance matrix of the errors is correctly specified.\n",
      "[2] The condition number is large, 2.09e+04. This might indicate that there are\n",
      "strong multicollinearity or other numerical problems.\n",
      "0.343078000977\n",
      "26500000.3512\n"
     ]
    }
   ],
   "source": [
    "data2 = data.drop(result.pvalues[result.pvalues > 0.01].index, axis = 1)\n",
    "model2 = sm.OLS(target, data2)\n",
    "result2 = model2.fit()\n",
    "print(result2.summary())\n",
    "print(mean_absolute_error(result2.predict(), target))\n",
    "print(mean_absolute_error(np.exp(result2.predict()) * df['area(m2)'], np.exp(target) * df['area(m2)']))"
   ]
  },
  {
   "cell_type": "code",
   "execution_count": 125,
   "metadata": {
    "collapsed": false
   },
   "outputs": [
    {
     "data": {
      "text/plain": [
       "array([ 0.39034896,  0.3974446 ,  0.41637388,  0.38815559,  0.41279227,\n",
       "        0.25161281,  0.25335469,  0.31731345,  0.3048524 ,  0.53234771])"
      ]
     },
     "execution_count": 125,
     "metadata": {},
     "output_type": "execute_result"
    }
   ],
   "source": [
    "scores = -cross_val_score(LinearRegression(),\n",
    "                          data,\n",
    "                          target,\n",
    "                          \"mean_absolute_error\", cv=10)\n",
    "scores"
   ]
  },
  {
   "cell_type": "code",
   "execution_count": 138,
   "metadata": {
    "collapsed": false
   },
   "outputs": [
    {
     "data": {
      "image/png": "[encoded data removed]",
      "text/plain": [
       "<matplotlib.figure.Figure at 0x252ae34400>"
      ]
     },
     "metadata": {},
     "output_type": "display_data"
    }
   ],
   "source": [
    "x = range(1, 30)\n",
    "fig, ax = plt.subplots(figsize = (10, 5))\n",
    "plt.scatter(result.predict(), target, c = 'k')\n",
    "plt.plot(x, x, c = 'r')\n",
    "ax.set_ylabel('target')\n",
    "ax.set_xlabel('predict')\n",
    "plt.axis([6, 21, 6, 21])\n",
    "ax.set_title('낙찰이 불확실한 경우 예측가')\n",
    "plt.show()"
   ]
  },
  {
   "cell_type": "markdown",
   "metadata": {},
   "source": [
    "# 낙찰이 확정된 경우 낙찰가 예측"
   ]
  },
  {
   "cell_type": "code",
   "execution_count": 131,
   "metadata": {
    "collapsed": false
   },
   "outputs": [],
   "source": [
    "data = pd.concat([\n",
    "        df.ix[:, 'lot_of_land':'현상변경허가 대상구역'],\n",
    "        df.ix[:, '도시지역_주거지역':'자연환경보전지역'],\n",
    "        df.ix[:, 'log_est_jiga'],\n",
    "        df.ix[:, 'log_area'],\n",
    "        df.ix[:, 'log_min_jiga']\n",
    "    ], axis = 1)\n",
    "target = df.ix[:, 'log_bid_jiga']"
   ]
  },
  {
   "cell_type": "code",
   "execution_count": 132,
   "metadata": {
    "collapsed": false
   },
   "outputs": [
    {
     "name": "stdout",
     "output_type": "stream",
     "text": [
      "                            OLS Regression Results                            \n",
      "==============================================================================\n",
      "Dep. Variable:           log_bid_jiga   R-squared:                       0.978\n",
      "Model:                            OLS   Adj. R-squared:                  0.977\n",
      "Method:                 Least Squares   F-statistic:                     3576.\n",
      "Date:                Mon, 11 Apr 2016   Prob (F-statistic):               0.00\n",
      "Time:                        04:29:19   Log-Likelihood:                 246.15\n",
      "No. Observations:                9961   AIC:                            -250.3\n",
      "Df Residuals:                    9840   BIC:                             621.7\n",
      "Df Model:                         120                                         \n",
      "Covariance Type:            nonrobust                                         \n",
      "===================================================================================\n",
      "                      coef    std err          t      P>|t|      [95.0% Conf. Int.]\n",
      "-----------------------------------------------------------------------------------\n",
      "const               0.4911      0.044     11.131      0.000         0.405     0.578\n",
      "lot_of_land        -0.0138      0.006     -2.272      0.023        -0.026    -0.002\n",
      "공유자매수신고            -0.0428      0.037     -1.171      0.241        -0.115     0.029\n",
      "법정지상권               0.0011      0.006      0.167      0.867        -0.011     0.014\n",
      "분묘기지권              -0.0444      0.015     -2.896      0.004        -0.074    -0.014\n",
      "선순위가등기             -0.1067      0.062     -1.729      0.084        -0.228     0.014\n",
      "선순위가처분             -0.0856      0.080     -1.072      0.284        -0.242     0.071\n",
      "선순위전세권              0.0629      0.168      0.373      0.709        -0.267     0.393\n",
      "선순위지상권             -0.0556      0.085     -0.655      0.513        -0.222     0.111\n",
      "유치권                 0.0059      0.027      0.220      0.826        -0.047     0.058\n",
      "재경매                -0.0068      0.019     -0.361      0.718        -0.044     0.030\n",
      "지분경매               -0.0405      0.119     -0.339      0.735        -0.275     0.194\n",
      "lndlevel_고지        -0.1306      0.085     -1.532      0.126        -0.298     0.037\n",
      "lndlevel_급경사       -0.1165      0.083     -1.404      0.160        -0.279     0.046\n",
      "lndlevel_완경사       -0.1357      0.080     -1.693      0.090        -0.293     0.021\n",
      "lndlevel_저지        -0.0956      0.090     -1.060      0.289        -0.273     0.081\n",
      "lndlevel_평지        -0.1328      0.080     -1.660      0.097        -0.290     0.024\n",
      "rdtuch_광대세각        -0.0022      0.082     -0.026      0.979        -0.163     0.159\n",
      "rdtuch_광대소각         0.0380      0.074      0.512      0.609        -0.108     0.184\n",
      "rdtuch_광대한면         0.0211      0.071      0.298      0.766        -0.118     0.160\n",
      "rdtuch_맹지           0.0080      0.068      0.117      0.907        -0.126     0.142\n",
      "rdtuch_세각(가)        0.0410      0.068      0.600      0.549        -0.093     0.175\n",
      "rdtuch_세각(불)        0.0663      0.071      0.940      0.347        -0.072     0.205\n",
      "rdtuch_세로(가)        0.0280      0.067      0.416      0.678        -0.104     0.160\n",
      "rdtuch_세로(불)        0.0289      0.067      0.429      0.668        -0.103     0.161\n",
      "rdtuch_소로각지         0.0392      0.069      0.572      0.568        -0.095     0.174\n",
      "rdtuch_소로한면         0.0325      0.068      0.480      0.631        -0.100     0.165\n",
      "rdtuch_중로각지         0.0573      0.070      0.820      0.412        -0.080     0.194\n",
      "rdtuch_중로한면         0.0418      0.069      0.609      0.542        -0.093     0.176\n",
      "lndcmps_남동향         0.0131      0.011      1.214      0.225        -0.008     0.034\n",
      "lndcmps_남서향        -0.0017      0.011     -0.160      0.873        -0.023     0.019\n",
      "lndcmps_남향         -0.0037      0.009     -0.396      0.692        -0.022     0.015\n",
      "lndcmps_동향         -0.0017      0.010     -0.170      0.865        -0.021     0.018\n",
      "lndcmps_북동향         0.0122      0.013      0.913      0.361        -0.014     0.038\n",
      "lndcmps_북서향         0.0181      0.015      1.224      0.221        -0.011     0.047\n",
      "lndcmps_북향          0.0112      0.011      1.011      0.312        -0.011     0.033\n",
      "lndcmps_서향         -0.0086      0.010     -0.830      0.406        -0.029     0.012\n",
      "lndfrm_가장형          0.0416      0.048      0.868      0.385        -0.052     0.135\n",
      "lndfrm_부정형          0.0362      0.047      0.773      0.439        -0.056     0.128\n",
      "lndfrm_사다리          0.0415      0.047      0.883      0.377        -0.051     0.134\n",
      "lndfrm_삼각형          0.0310      0.049      0.627      0.531        -0.066     0.128\n",
      "lndfrm_세장형          0.0391      0.048      0.822      0.411        -0.054     0.132\n",
      "lndfrm_역삼각          0.1095      0.092      1.188      0.235        -0.071     0.290\n",
      "lndfrm_자루형          0.0616      0.050      1.243      0.214        -0.036     0.159\n",
      "lndfrm_정방형          0.0579      0.048      1.195      0.232        -0.037     0.153\n",
      "가로구역별 최고높이          0.0086      0.020      0.423      0.672        -0.031     0.048\n",
      "가축사육제한구역           -0.0167      0.006     -2.727      0.006        -0.029    -0.005\n",
      "개발제한구역              0.0202      0.014      1.409      0.159        -0.008     0.048\n",
      "개발촉진관련지역           -0.0054      0.014     -0.393      0.694        -0.032     0.022\n",
      "경관보전관련지역            0.0102      0.012      0.825      0.409        -0.014     0.034\n",
      "계획관리지역             -0.0119      0.009     -1.386      0.166        -0.029     0.005\n",
      "공공시설유무              0.0113      0.014      0.812      0.417        -0.016     0.038\n",
      "공업관련지역             -0.0196      0.014     -1.404      0.160        -0.047     0.008\n",
      "공원유무                0.0084      0.008      1.039      0.299        -0.007     0.024\n",
      "과밀억제지역              0.0258      0.016      1.660      0.097        -0.005     0.056\n",
      "광로                  0.0395      0.020      1.980      0.048         0.000     0.079\n",
      "노외주차장               0.0136      0.023      0.600      0.549        -0.031     0.058\n",
      "녹지관련지역              0.0032      0.009      0.366      0.714        -0.014     0.021\n",
      "농림지역.1             -0.0002      0.009     -0.024      0.981        -0.017     0.017\n",
      "농업관련지역              0.0004      0.010      0.038      0.970        -0.019     0.020\n",
      "대공방어협조구역           -0.0259      0.021     -1.207      0.228        -0.068     0.016\n",
      "대로                  0.0066      0.009      0.767      0.443        -0.010     0.024\n",
      "도로유무                0.0068      0.008      0.908      0.364        -0.008     0.022\n",
      "도시개발관련지역           -0.0079      0.018     -0.447      0.655        -0.042     0.027\n",
      "도시지역                0.0188      0.007      2.586      0.010         0.005     0.033\n",
      "문화재관련법규             0.0045      0.010      0.477      0.633        -0.014     0.023\n",
      "방화지구                0.0019      0.014      0.128      0.898        -0.026     0.030\n",
      "배수구역                0.0097      0.025      0.389      0.697        -0.039     0.059\n",
      "배출시설설치제한지역         -0.0184      0.014     -1.306      0.192        -0.046     0.009\n",
      "법정동                 0.0181      0.009      2.056      0.040         0.001     0.035\n",
      "보전관리지역              0.0142      0.007      1.905      0.057        -0.000     0.029\n",
      "비행안전구역              0.0124      0.019      0.647      0.518        -0.025     0.050\n",
      "산지관련법규              0.0057      0.008      0.712      0.477        -0.010     0.022\n",
      "상수원보호기타             0.0392      0.016      2.423      0.015         0.007     0.071\n",
      "상업관련지역              0.0019      0.010      0.192      0.848        -0.017     0.021\n",
      "생산관리지역              0.0132      0.008      1.677      0.094        -0.002     0.029\n",
      "성장관리지역              0.0406      0.015      2.696      0.007         0.011     0.070\n",
      "소로                 -0.0130      0.007     -1.918      0.055        -0.026     0.000\n",
      "수질보존관련지역           -0.0105      0.017     -0.606      0.545        -0.045     0.024\n",
      "시장                 -0.0209      0.023     -0.928      0.354        -0.065     0.023\n",
      "영농여건불리농지           -0.0105      0.024     -0.445      0.656        -0.057     0.036\n",
      "일반미관지구              0.0083      0.014      0.593      0.553        -0.019     0.036\n",
      "자연녹지지역             -0.0270      0.008     -3.593      0.000        -0.042    -0.012\n",
      "자연보전권역             -0.0206      0.021     -1.006      0.315        -0.061     0.020\n",
      "자연취락지구             -0.0194      0.007     -2.619      0.009        -0.034    -0.005\n",
      "자연환경보전지역.1          0.1031      0.019      5.405      0.000         0.066     0.141\n",
      "장애물제한표면구역          -0.0239      0.024     -0.981      0.326        -0.072     0.024\n",
      "접도구역               -0.0118      0.012     -0.961      0.337        -0.036     0.012\n",
      "정비구역                0.0080      0.014      0.565      0.572        -0.020     0.036\n",
      "정화구역                0.0029      0.007      0.415      0.678        -0.011     0.017\n",
      "제한보호구역             -0.0606      0.022     -2.764      0.006        -0.104    -0.018\n",
      "주거개발관련지역            0.0055      0.015      0.358      0.721        -0.025     0.036\n",
      "주거관련지역             -0.0031      0.009     -0.350      0.726        -0.020     0.014\n",
      "주거용지                0.0127      0.022      0.592      0.554        -0.029     0.055\n",
      "주차장                -0.0099      0.012     -0.807      0.419        -0.034     0.014\n",
      "준보전산지              -0.0026      0.006     -0.450      0.653        -0.014     0.009\n",
      "준주거지역               0.0202      0.011      1.831      0.067        -0.001     0.042\n",
      "중로                  0.0019      0.007      0.295      0.768        -0.011     0.015\n",
      "중심지미관지구             0.0449      0.018      2.529      0.011         0.010     0.080\n",
      "지구단위계획구역            0.0087      0.008      1.086      0.277        -0.007     0.025\n",
      "지역특화발전특구           -0.0017      0.019     -0.091      0.928        -0.039     0.036\n",
      "철도                  0.0086      0.018      0.472      0.637        -0.027     0.044\n",
      "최고고도지구              0.0100      0.014      0.698      0.485        -0.018     0.038\n",
      "토지거래계약에관한허가구역      -0.0022      0.024     -0.092      0.927        -0.049     0.045\n",
      "하수처리구역             -0.0004      0.021     -0.018      0.985        -0.042     0.041\n",
      "하천유무               -0.0028      0.007     -0.379      0.705        -0.017     0.012\n",
      "한강폐기물매립시설설치제한지역     0.0178      0.016      1.096      0.273        -0.014     0.050\n",
      "행정구역 리              0.0263      0.019      1.386      0.166        -0.011     0.064\n",
      "현상변경허가 대상구역        -0.0050      0.012     -0.420      0.674        -0.029     0.019\n",
      "도시지역_주거지역        1.349e-05    6.9e-06      1.953      0.051     -4.87e-08   2.7e-05\n",
      "도시지역_상업지역        5.467e-05   2.93e-05      1.867      0.062     -2.73e-06     0.000\n",
      "도시지역_공업지역       -9.045e-05   6.07e-05     -1.489      0.136        -0.000  2.86e-05\n",
      "도시지역_녹지지역        6.096e-05   2.33e-05      2.618      0.009      1.53e-05     0.000\n",
      "도시지역_개발제한구역        -0.0001      0.000     -1.290      0.197        -0.000  7.56e-05\n",
      "도시지역_용도미지정      -8.772e-07    3.6e-05     -0.024      0.981     -7.14e-05  6.96e-05\n",
      "관리지역소계           6.231e-05   1.46e-05      4.265      0.000      3.37e-05  9.09e-05\n",
      "농림지역               -0.0001   4.53e-05     -2.959      0.003        -0.000 -4.53e-05\n",
      "자연환경보전지역            0.0003      0.000      2.223      0.026      3.82e-05     0.001\n",
      "log_est_jiga       -0.0449      0.006     -7.201      0.000        -0.057    -0.033\n",
      "log_area            0.0089      0.002      3.940      0.000         0.004     0.013\n",
      "log_min_jiga        1.0184      0.006    168.104      0.000         1.007     1.030\n",
      "==============================================================================\n",
      "Omnibus:                    12327.520   Durbin-Watson:                   1.865\n",
      "Prob(Omnibus):                  0.000   Jarque-Bera (JB):          5659309.736\n",
      "Skew:                           6.267   Prob(JB):                         0.00\n",
      "Kurtosis:                     119.097   Cond. No.                     8.23e+04\n",
      "==============================================================================\n",
      "\n",
      "Warnings:\n",
      "[1] Standard Errors assume that the covariance matrix of the errors is correctly specified.\n",
      "[2] The condition number is large, 8.23e+04. This might indicate that there are\n",
      "strong multicollinearity or other numerical problems.\n",
      "0.146393185052\n",
      "11183434.8125\n"
     ]
    }
   ],
   "source": [
    "data = sm.add_constant(data)\n",
    "model = sm.OLS(target, data)\n",
    "result = model.fit()\n",
    "print(result.summary())\n",
    "print(mean_absolute_error(result.predict(), target))\n",
    "print(mean_absolute_error(np.exp(result.predict()) * df['area(m2)'], np.exp(target) * df['area(m2)']))"
   ]
  },
  {
   "cell_type": "code",
   "execution_count": 133,
   "metadata": {
    "collapsed": false
   },
   "outputs": [
    {
     "name": "stdout",
     "output_type": "stream",
     "text": [
      "                            OLS Regression Results                            \n",
      "==============================================================================\n",
      "Dep. Variable:           log_bid_jiga   R-squared:                       0.977\n",
      "Model:                            OLS   Adj. R-squared:                  0.977\n",
      "Method:                 Least Squares   F-statistic:                 3.049e+04\n",
      "Date:                Mon, 11 Apr 2016   Prob (F-statistic):               0.00\n",
      "Time:                        04:30:03   Log-Likelihood:                 168.39\n",
      "No. Observations:                9961   AIC:                            -306.8\n",
      "Df Residuals:                    9946   BIC:                            -198.7\n",
      "Df Model:                          14                                         \n",
      "Covariance Type:            nonrobust                                         \n",
      "================================================================================\n",
      "                   coef    std err          t      P>|t|      [95.0% Conf. Int.]\n",
      "--------------------------------------------------------------------------------\n",
      "const            0.3991      0.028     14.039      0.000         0.343     0.455\n",
      "분묘기지권           -0.0471      0.015     -3.094      0.002        -0.077    -0.017\n",
      "가축사육제한구역        -0.0187      0.005     -3.412      0.001        -0.029    -0.008\n",
      "도시지역             0.0113      0.006      1.866      0.062        -0.001     0.023\n",
      "성장관리지역           0.0331      0.014      2.449      0.014         0.007     0.060\n",
      "자연녹지지역          -0.0223      0.006     -3.651      0.000        -0.034    -0.010\n",
      "자연취락지구          -0.0200      0.007     -2.840      0.005        -0.034    -0.006\n",
      "자연환경보전지역.1       0.1144      0.018      6.516      0.000         0.080     0.149\n",
      "제한보호구역          -0.0661      0.021     -3.119      0.002        -0.108    -0.025\n",
      "도시지역_녹지지역     6.538e-05   2.03e-05      3.217      0.001      2.55e-05     0.000\n",
      "관리지역소계          4.2e-05   1.32e-05      3.191      0.001      1.62e-05  6.78e-05\n",
      "농림지역            -0.0002   4.31e-05     -3.556      0.000        -0.000 -6.88e-05\n",
      "log_est_jiga    -0.0413      0.006     -7.135      0.000        -0.053    -0.030\n",
      "log_area         0.0063      0.002      3.087      0.002         0.002     0.010\n",
      "log_min_jiga     1.0214      0.006    175.215      0.000         1.010     1.033\n",
      "==============================================================================\n",
      "Omnibus:                    12455.513   Durbin-Watson:                   1.861\n",
      "Prob(Omnibus):                  0.000   Jarque-Bera (JB):          5962710.965\n",
      "Skew:                           6.379   Prob(JB):                         0.00\n",
      "Kurtosis:                     122.179   Cond. No.                     4.50e+03\n",
      "==============================================================================\n",
      "\n",
      "Warnings:\n",
      "[1] Standard Errors assume that the covariance matrix of the errors is correctly specified.\n",
      "[2] The condition number is large, 4.5e+03. This might indicate that there are\n",
      "strong multicollinearity or other numerical problems.\n",
      "0.147338058935\n",
      "11167086.3636\n"
     ]
    }
   ],
   "source": [
    "data2 = data.drop(result.pvalues[result.pvalues > 0.01].index, axis = 1)\n",
    "model2 = sm.OLS(target, data2)\n",
    "result2 = model2.fit()\n",
    "print(result2.summary())\n",
    "print(mean_absolute_error(result2.predict(), target))\n",
    "print(mean_absolute_error(np.exp(result2.predict()) * df['area(m2)'], np.exp(target) * df['area(m2)']))"
   ]
  },
  {
   "cell_type": "code",
   "execution_count": 134,
   "metadata": {
    "collapsed": false
   },
   "outputs": [
    {
     "data": {
      "text/plain": [
       "array([ 0.20401188,  0.18395749,  0.18497299,  0.15765336,  0.15874957,\n",
       "        0.12218587,  0.11566167,  0.1222053 ,  0.12145511,  0.1172004 ])"
      ]
     },
     "execution_count": 134,
     "metadata": {},
     "output_type": "execute_result"
    }
   ],
   "source": [
    "scores = -cross_val_score(LinearRegression(),\n",
    "                          data,\n",
    "                          target,\n",
    "                          \"mean_absolute_error\", cv=10)\n",
    "scores"
   ]
  },
  {
   "cell_type": "code",
   "execution_count": 137,
   "metadata": {
    "collapsed": false
   },
   "outputs": [
    {
     "data": {
      "image/png": "[encoded data removed]",
      "text/plain": [
       "<matplotlib.figure.Figure at 0x2523d1e908>"
      ]
     },
     "metadata": {},
     "output_type": "display_data"
    }
   ],
   "source": [
    "x = range(1, 30)\n",
    "fig, ax = plt.subplots(figsize = (10, 5))\n",
    "plt.scatter(result.predict(), target, c = 'k')\n",
    "plt.plot(x, x, c = 'r')\n",
    "ax.set_ylabel('target')\n",
    "ax.set_xlabel('predict')\n",
    "ax.set_title('낙찰이 확정된 경우 예측가')\n",
    "plt.axis([6, 21, 6, 21])\n",
    "plt.show()"
   ]
  },
  {
   "cell_type": "code",
   "execution_count": null,
   "metadata": {
    "collapsed": true
   },
   "outputs": [],
   "source": []
  }
 ],
 "metadata": {
  "kernelspec": {
   "display_name": "Python 3",
   "language": "python",
   "name": "python3"
  },
  "language_info": {
   "codemirror_mode": {
    "name": "ipython",
    "version": 3
   },
   "file_extension": ".py",
   "mimetype": "text/x-python",
   "name": "python",
   "nbconvert_exporter": "python",
   "pygments_lexer": "ipython3",
   "version": "3.5.1"
  }
 },
 "nbformat": 4,
 "nbformat_minor": 0
}
